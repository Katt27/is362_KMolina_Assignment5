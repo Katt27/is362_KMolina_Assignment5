{
 "cells": [
  {
   "cell_type": "markdown",
   "id": "0e6a0588-d2aa-4bdc-abe9-ecf61ccfe500",
   "metadata": {},
   "source": [
    "## Airport and Weather Data Analysis - Assignment 5\n",
    "This notebook analyzes the northernmost and easternmost airports in the United States, and identifies which New York area airport had the windiest weather on February 12, 2013. The data used comes from the `nycflights13` dataset, specifically the `airports.csv` and `weather.csv` files.\n"
   ]
  },
  {
   "cell_type": "code",
   "execution_count": 6,
   "id": "04530aef-cd1e-49b4-886a-60b6b9ea191c",
   "metadata": {},
   "outputs": [],
   "source": [
    "import pandas as pd\n",
    "\n",
    "# Load the datasets\n",
    "airports_df = pd.read_csv('C:/Users/since/Downloads/airports.csv')\n",
    "weather_df = pd.read_csv('C:/Users/since/Downloads/weather.csv')\n",
    "\n"
   ]
  },
  {
   "cell_type": "code",
   "execution_count": 12,
   "id": "920435fa-fa4a-4e27-8b22-d72e9d9407e6",
   "metadata": {},
   "outputs": [
    {
     "name": "stdout",
     "output_type": "stream",
     "text": [
      "Northernmost Airport: Dillant Hopkins Airport FAA Code: EEN\n",
      "Easternmost Airport: Eareckson As FAA Code: SYA\n"
     ]
    }
   ],
   "source": [
    "# Northernmost Airport\n",
    "northernmost_airport = airports_df.loc[airports_df['lat'].idxmax()]\n",
    "print(\"Northernmost Airport:\", northernmost_airport['name'], \"FAA Code:\", northernmost_airport['faa'])\n",
    "\n",
    "# Easternmost Airport\n",
    "easternmost_airport = airports_df.loc[airports_df['lon'].idxmax()]\n",
    "print(\"Easternmost Airport:\", easternmost_airport['name'], \"FAA Code:\", easternmost_airport['faa'])\n"
   ]
  },
  {
   "cell_type": "markdown",
   "id": "402d5aa0-55f5-4194-872d-7078dbed3773",
   "metadata": {},
   "source": [
    "### Results:\n",
    "- The **northernmost airport** is **Dillant Hopkins Airport** (FAA Code: EEN), located at latitude 72.27.\n",
    "- The **easternmost airport** is **Eareckson As** (FAA Code: SYA), located at longitude 174.11.\n"
   ]
  },
  {
   "cell_type": "code",
   "execution_count": 15,
   "id": "bc897f6a-261d-4471-b8ac-e59d41040897",
   "metadata": {},
   "outputs": [
    {
     "name": "stdout",
     "output_type": "stream",
     "text": [
      "origin\n",
      "EWR    1048.36058\n",
      "JFK      20.71404\n",
      "LGA      23.01560\n",
      "Name: wind_speed, dtype: float64\n"
     ]
    }
   ],
   "source": [
    "# Filter weather data for NY area airports on February 12, 2013\n",
    "ny_airports = ['JFK', 'LGA', 'EWR']\n",
    "feb_12_weather = weather_df[\n",
    "    (weather_df['origin'].isin(ny_airports)) &\n",
    "    (weather_df['year'] == 2013) &\n",
    "    (weather_df['month'] == 2) &\n",
    "    (weather_df['day'] == 12)\n",
    "]\n",
    "\n",
    "# Find the maximum wind speed per airport\n",
    "max_wind_per_airport = feb_12_weather.groupby('origin')['wind_speed'].max()\n",
    "print(max_wind_per_airport)\n"
   ]
  },
  {
   "cell_type": "markdown",
   "id": "d43f9000-5e86-41a0-a0ee-a47b07c177bd",
   "metadata": {},
   "source": [
    "### Windiest Airport on February 12, 2013:\n",
    "- The **windiest airport** in the New York area was **LaGuardia (LGA)** with a wind speed of 23.02 m/s.\n"
   ]
  },
  {
   "cell_type": "markdown",
   "id": "55a83ada-5cb6-45c1-860e-cf1e3830252d",
   "metadata": {},
   "source": [
    "## Assumptions and Adjustments\n",
    "- The wind speed for Newark (EWR) had an unusually high value, which was treated as an outlier and disregarded for the purposes of this analysis.\n",
    "\n",
    "- The wind speed for Newark (EWR) was an unusually high value (1048.36 m/s), which is unrealistic and was therefore treated as a data entry error and disregarded.\r\n",
    "\n"
   ]
  },
  {
   "cell_type": "markdown",
   "id": "c5c7a485-fb95-40ef-89a6-d2e0f945d74d",
   "metadata": {},
   "source": [
    "## Conclusion\n",
    "This analysis provided insights into U.S. airport geography and weather patterns. The northernmost airport is Dillant Hopkins Airport (EEN), and the easternmost is Eareckson As (SYA). Additionally, LaGuardia (LGA) had the highest wind speed of 23.02 m/s on February 12, 2013.\n"
   ]
  }
 ],
 "metadata": {
  "kernelspec": {
   "display_name": "Python 3 (ipykernel)",
   "language": "python",
   "name": "python3"
  },
  "language_info": {
   "codemirror_mode": {
    "name": "ipython",
    "version": 3
   },
   "file_extension": ".py",
   "mimetype": "text/x-python",
   "name": "python",
   "nbconvert_exporter": "python",
   "pygments_lexer": "ipython3",
   "version": "3.12.4"
  }
 },
 "nbformat": 4,
 "nbformat_minor": 5
}
